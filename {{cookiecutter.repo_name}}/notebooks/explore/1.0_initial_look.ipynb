{
 "cells": [
  {
   "cell_type": "code",
   "execution_count": 1,
   "metadata": {},
   "outputs": [],
   "source": [
    "import sys, math, os\n",
    "import pandas as pd\n",
    "import seaborn as sns\n",
    "#sns.set(rc={'axes.facecolor':'lightgrey'}) # darken background color for better viewing\n",
    "from matplotlib import pyplot as plt    \n",
    "import numpy as np\n",
    "from scipy import stats\n",
    "\n",
    "sys.path.insert(0, '/home/code_repo/python/')\n",
    "import utils\n",
    "\n",
    "%matplotlib inline  \n",
    "%load_ext autoreload  \n",
    "%autoreload 2  \n",
    "\n",
    "data_raw = \"../../data/raw/\"\n",
    "data_interim = \"../../data/interim/\"\n",
    "\n",
    "plt.rcParams['svg.fonttype'] = 'none'\n",
    "plt.rcParams[\"font.sans-serif\"] = \"Arial\"\n",
    "plt.rcParams['font.family'] = \"sans-serif\""
   ]
  }
 ],
 "metadata": {
  "kernelspec": {
   "display_name": "Python 2",
   "language": "python",
   "name": "python2"
  },
  "language_info": {
   "codemirror_mode": {
    "name": "ipython",
    "version": 2
   },
   "file_extension": ".py",
   "mimetype": "text/x-python",
   "name": "python",
   "nbconvert_exporter": "python",
   "pygments_lexer": "ipython2",
   "version": "2.7.6"
  }
 },
 "nbformat": 4,
 "nbformat_minor": 2
}
