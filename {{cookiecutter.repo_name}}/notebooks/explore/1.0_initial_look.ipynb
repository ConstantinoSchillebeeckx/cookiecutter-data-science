{
 "cells": [
  {
   "cell_type": "code",
   "execution_count": 1,
   "metadata": {
    "collapsed": true
   },
   "outputs": [],
   "source": [
    "import sys\n",
    "import json\n",
    "import pandas as pd\n",
    "import math\n",
    "import seaborn as sns\n",
    "sns.set(rc={'axes.facecolor':'lightgrey'}) # darken background color for better viewing on projector\n",
    "from matplotlib import pyplot as plt    \n",
    "import numpy as np\n",
    "from scipy import stats\n",
    "\n",
    "sys.path.insert(0, '/home/code_repo/python/')\n",
    "import utils\n",
    "\n",
    "data_dir = \"../../data/raw/\"",
    "%matplotlib inline"
   ]
  },
  {
   "cell_type": "markdown",
   "metadata": {},
   "source": [
    "# Introduction\n",
    "\n",
    "Previously our efforts have been in establishing those taxa that act as growth promoting or discriminatory (PDTs).  This analysis aims to do the opposite; that is, to find those taxa that are potentially associated with growth inhibitory phenotypes in SH3-2 & SH3-1.  The first two SH3-X studies show that donor 141 was a low performing donor compared to all the others tested; furthermore it was shown that donor 17, once introduced into donor 141 was able to \"rescue\" the animal.  We are interested, therefore, in finding those taxa that are intitially present in donor 141 samples, and subsequently disappear upon the introduction of donor 17."
   ]
  }
 ],
 "metadata": {
  "kernelspec": {
   "display_name": "Python 2",
   "language": "python",
   "name": "python2"
  },
  "language_info": {
   "codemirror_mode": {
    "name": "ipython",
    "version": 2
   },
   "file_extension": ".py",
   "mimetype": "text/x-python",
   "name": "python",
   "nbconvert_exporter": "python",
   "pygments_lexer": "ipython2",
   "version": "2.7.6"
  }
 },
 "nbformat": 4,
 "nbformat_minor": 0
}
